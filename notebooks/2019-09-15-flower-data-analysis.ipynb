{
 "cells": [
  {
   "cell_type": "code",
   "execution_count": 2,
   "metadata": {},
   "outputs": [],
   "source": [
    "%matplotlib inline\n",
    "%load_ext autoreload\n",
    "%autoreload 2\n",
    "\n",
    "import pandas as pd\n",
    "import matplotlib.pyplot as plt\n",
    "import imageio\n",
    "import numpy as np\n",
    "import flowermodel.find_blobs as fb\n",
    "from tqdm import tqdm\n",
    "import ipywidgets as widgets\n",
    "from flowermodel import plotting  \n",
    "import pandas as pd\n",
    "import glob"
   ]
  },
  {
   "cell_type": "code",
   "execution_count": null,
   "metadata": {},
   "outputs": [],
   "source": [
    "!flowermodel framecount --filename ../data/movies/41586_2019_1429_MOESM4_ESM.mov"
   ]
  },
  {
   "cell_type": "code",
   "execution_count": null,
   "metadata": {},
   "outputs": [],
   "source": [
    "!mkdir pbslogs"
   ]
  },
  {
   "cell_type": "code",
   "execution_count": null,
   "metadata": {},
   "outputs": [],
   "source": [
    "%%writefile blob.pbs\n",
    "#!/bin/bash\n",
    "#PBS -l nodes=1:ppn=2\n",
    "#PBS -l walltime=0:10:00\n",
    "#PBS -l mem=4GB\n",
    "#PBS -q batch\n",
    "#PBS -N blob\n",
    "#PBS -t 0-270\n",
    "#PBS -o pbslogs/$PBS_JOBNAME.o\n",
    "#PBS -e pbslogs/$PBS_JOBNAME.e\n",
    "\n",
    "cd $PBS_O_WORKDIR\n",
    "FILE=\"../data/movies/41586_2019_1429_MOESM4_ESM.mov\"\n",
    ". /projects/chuang-lab/jnh/miniconda3/etc/profile.d/conda.sh\n",
    "conda activate flower\n",
    "flowermodel blob --filename $FILE --blob-index $PBS_ARRAYID"
   ]
  },
  {
   "cell_type": "code",
   "execution_count": null,
   "metadata": {},
   "outputs": [],
   "source": [
    "# !qsub blob.pbs"
   ]
  },
  {
   "cell_type": "code",
   "execution_count": null,
   "metadata": {},
   "outputs": [],
   "source": [
    "# import pandas as pd\n",
    "# import glob\n",
    "# moviefile = '41586_2019_1429_MOESM4_ESM.mov'\n",
    "# files = glob.glob('../data/blobs/{:s}/blob*.csv'.format(moviefile))\n",
    "# blobs = [pd.read_csv(file) for file in files]\n",
    "# blobs = pd.concat(blobs).sort_values(['frame', 'color', 'x', 'y']).reset_index(drop=True)\n",
    "\n",
    "# blobs.to_csv('../data/blobs/{:s}.blob.csv'.format(moviefile), index=False)"
   ]
  },
  {
   "cell_type": "code",
   "execution_count": 3,
   "metadata": {},
   "outputs": [],
   "source": [
    "moviefile = '41586_2019_1429_MOESM4_ESM.mov'\n",
    "blobs = pd.read_csv('../data/blobs/{:s}.blob.csv'.format(moviefile))"
   ]
  },
  {
   "cell_type": "code",
   "execution_count": 5,
   "metadata": {},
   "outputs": [
    {
     "data": {
      "application/vnd.jupyter.widget-view+json": {
       "model_id": "05be216292c54f5b9836a84ec5ab1321",
       "version_major": 2,
       "version_minor": 0
      },
      "text/plain": [
       "interactive(children=(IntSlider(value=0, continuous_update=False, description='img_idx', max=270), Output(layo…"
      ]
     },
     "metadata": {},
     "output_type": "display_data"
    }
   ],
   "source": [
    "filename = '../data/movies/{:s}'.format(moviefile)\n",
    "vid = imageio.get_reader(filename,  'ffmpeg')\n",
    "\n",
    "def f(img_idx):\n",
    "    plotting.plot_blob_overlay(vid, img_idx, blobs);\n",
    "\n",
    "interactive_plot = widgets.interactive(f, img_idx=widgets.IntSlider(\n",
    "    min=0, max=vid.count_frames()-1, continuous_update=False))\n",
    "\n",
    "output = interactive_plot.children[-1]\n",
    "output.layout.height = '550px'\n",
    "output.layout.width = '550px'\n",
    "interactive_plot"
   ]
  },
  {
   "cell_type": "code",
   "execution_count": 206,
   "metadata": {},
   "outputs": [],
   "source": [
    "from flowermodel.calculate_rdf import get_blob_dists, get_cell_counts_for_rdf, calculate_rdf"
   ]
  },
  {
   "cell_type": "code",
   "execution_count": 210,
   "metadata": {},
   "outputs": [],
   "source": [
    "class blobrdf:\n",
    "    def __init__(self, vid, blobs, image_idx, color1, color2):\n",
    "        print('get blob')\n",
    "        blob = blobs[blobs['frame'] == image_idx]\n",
    "        print('get X1, X2')\n",
    "        self.X1 = blob.loc[blob['color'] == color1, ['x', 'y']].values\n",
    "        self.X2 = blob.loc[blob['color'] == color2, ['x', 'y']].values\n",
    "\n",
    "#         self.vid_qc(vid)\n",
    "        print('get L1, L2')\n",
    "        (self.L1, self.L2, _) = vid.get_data(0).shape\n",
    "        if self.L1!=self.L2: \n",
    "            print('The images are not exactly squares. Using the minumum dimension for analysis')\n",
    "        \n",
    "        print('get dist')\n",
    "        self.get_blob_dists()\n",
    "        print('get cell count ')\n",
    "        self.get_cell_counts_for_rdf()\n",
    "        \n",
    "    def vid_qc(self, vid):\n",
    "        assert np.all(np.diff(np.array([vid.get_data(0).shape for n in range(vid.count_frames())]), \n",
    "                      axis=0) == 0), 'Some video frames have a different size'\n",
    "\n",
    "    def get_blob_dists(self):\n",
    "        '''\n",
    "        This function calculates pairwise distance between all blobs\n",
    "        of 'color1' to blobs of 'color2' assuming periodic boundary\n",
    "        conditions (only for one iteration).\n",
    "        '''\n",
    "        from scipy.spatial import distance_matrix\n",
    "\n",
    "        dists = []\n",
    "        for i in [0, -self.L1, self.L1]:\n",
    "            for j in [0, -self.L2, self.L2]:\n",
    "                X2shift = self.X2 + [i, j]\n",
    "                dist = distance_matrix(self.X1, X2shift)\n",
    "                dists.append(dist)\n",
    "        self.dist = np.hstack(dists)\n",
    "\n",
    "    def get_cell_counts_for_rdf(self):\n",
    "        '''\n",
    "        This function finds the number of cells for RDF calculation, \n",
    "        given the periodic boundary conditions, and the assumption that \n",
    "        pairs of cells further than minimum dimension of the image \n",
    "        should be ignored. Because of periodic boundary conditions \n",
    "        some cells (with 'color2') may never be used in the analysis and hence are\n",
    "        not counted toward the total count.\n",
    "        ''' \n",
    "\n",
    "        self.maxL = min(self.L1, self.L2)\n",
    "        self.N = (self.dist <= self.maxL).sum()\n",
    "\n",
    "    def calculate_rdf(self, r1, r2):\n",
    "        rdf = ((r1 <= self.dist) & (self.dist < r2)).sum()/ self.N\n",
    "        return rdf"
   ]
  },
  {
   "cell_type": "code",
   "execution_count": 211,
   "metadata": {},
   "outputs": [
    {
     "name": "stdout",
     "output_type": "stream",
     "text": [
      "get blob\n",
      "get X1, X2\n",
      "get L1, L2\n",
      "get dist\n",
      "get cell count \n"
     ]
    }
   ],
   "source": [
    "# from flowermodel.calculate_rdf_OOP import blobrdf\n",
    "image_idx = 0\n",
    "color1 = 'g'\n",
    "color2 = 'r'\n",
    "\n",
    "rdfobj = blobrdf(vid, blobs, image_idx, color1, color2)"
   ]
  },
  {
   "cell_type": "code",
   "execution_count": 207,
   "metadata": {},
   "outputs": [
    {
     "data": {
      "text/plain": [
       "0.028605202827485195"
      ]
     },
     "execution_count": 207,
     "metadata": {},
     "output_type": "execute_result"
    }
   ],
   "source": [
    "rdfobj.calculate_rdf(r1, r2, N)"
   ]
  },
  {
   "cell_type": "code",
   "execution_count": 6,
   "metadata": {},
   "outputs": [
    {
     "data": {
      "text/plain": [
       "(1024, 1024, 3)"
      ]
     },
     "execution_count": 6,
     "metadata": {},
     "output_type": "execute_result"
    }
   ],
   "source": [
    "assert np.all(np.diff(np.array([vid.get_data(0).shape for n in range(vid.count_frames())]), \n",
    "                      axis=0) == 0), 'Some video frames have a different size'\n",
    "vid.get_data(0).shape"
   ]
  },
  {
   "cell_type": "code",
   "execution_count": 7,
   "metadata": {},
   "outputs": [
    {
     "data": {
      "image/png": "[encoded data removed]",
      "text/plain": [
       "<Figure size 432x288 with 1 Axes>"
      ]
     },
     "metadata": {
      "needs_background": "light"
     },
     "output_type": "display_data"
    }
   ],
   "source": [
    "blobcounts = blobs.groupby(['frame', 'color']).size().unstack()\n",
    "blobcounts.plot(color=['g', 'r'])\n",
    "plt.ylabel('cell counts');\n",
    "plt.title(moviefile);"
   ]
  },
  {
   "cell_type": "code",
   "execution_count": 184,
   "metadata": {},
   "outputs": [],
   "source": [
    "from flowermodel.calculate_rdf import get_blob_dists, get_cell_counts_for_rdf, calculate_rdf\n",
    "\n",
    "image_idx = 0\n",
    "color1 = 'g'\n",
    "color2 = 'r'\n",
    "\n",
    "dist = get_blob_dists(vid, blobs, image_idx, color1, color2)"
   ]
  },
  {
   "cell_type": "code",
   "execution_count": 65,
   "metadata": {},
   "outputs": [
    {
     "data": {
      "image/png": "[encoded data removed]",
      "text/plain": [
       "<Figure size 432x288 with 1 Axes>"
      ]
     },
     "metadata": {
      "needs_background": "light"
     },
     "output_type": "display_data"
    }
   ],
   "source": [
    "plt.hist(dists.flatten(), 50);"
   ]
  },
  {
   "cell_type": "code",
   "execution_count": 165,
   "metadata": {},
   "outputs": [],
   "source": [
    "N1, N2 = get_cell_counts_for_rdf(vid, dist)"
   ]
  },
  {
   "cell_type": "code",
   "execution_count": 182,
   "metadata": {},
   "outputs": [],
   "source": [
    "N = get_cell_counts_for_rdf(vid, dist)"
   ]
  },
  {
   "cell_type": "code",
   "execution_count": 187,
   "metadata": {},
   "outputs": [
    {
     "data": {
      "text/plain": [
       "array([ 628.        ,   96.74709298,   50.92150823, ..., 1344.32771302,\n",
       "       1367.26442212, 1421.53860306])"
      ]
     },
     "execution_count": 187,
     "metadata": {},
     "output_type": "execute_result"
    }
   ],
   "source": [
    "dists.flatten()"
   ]
  },
  {
   "cell_type": "code",
   "execution_count": 166,
   "metadata": {},
   "outputs": [
    {
     "name": "stdout",
     "output_type": "stream",
     "text": [
      "245.5137469341375 301.0066444449358\n"
     ]
    }
   ],
   "source": [
    "nbins = 100\n",
    "q = 1/nbins\n",
    "idx = 2\n",
    "\n",
    "r1 = np.quantile(dists, q * idx)\n",
    "r2 = np.quantile(dists, q * (idx+1))"
   ]
  },
  {
   "cell_type": "code",
   "execution_count": 185,
   "metadata": {},
   "outputs": [
    {
     "data": {
      "text/plain": [
       "0.028605202827485195"
      ]
     },
     "execution_count": 185,
     "metadata": {},
     "output_type": "execute_result"
    }
   ],
   "source": [
    "calculate_rdf(dist, r1, r2, N)    "
   ]
  },
  {
   "cell_type": "code",
   "execution_count": 81,
   "metadata": {},
   "outputs": [
    {
     "data": {
      "text/plain": [
       "718776"
      ]
     },
     "execution_count": 81,
     "metadata": {},
     "output_type": "execute_result"
    }
   ],
   "source": [
    "cells_in_shell = ((r1 <= dist) < r2)\n",
    ".sum()"
   ]
  },
  {
   "cell_type": "markdown",
   "metadata": {},
   "source": [
    "# Scratch"
   ]
  },
  {
   "cell_type": "code",
   "execution_count": 1,
   "metadata": {},
   "outputs": [
    {
     "data": {
      "application/vnd.jupyter.widget-view+json": {
       "model_id": "31f06ba339134733a85af78b4b318707",
       "version_major": 2,
       "version_minor": 0
      },
      "text/plain": [
       "interactive(children=(IntSlider(value=10, description='x', max=30, min=-10), Output()), _dom_classes=('widget-…"
      ]
     },
     "metadata": {},
     "output_type": "display_data"
    }
   ],
   "source": [
    "# from ipywidgets import interact, interactive, fixed, interact_manual\n",
    "import ipywidgets as widgets\n",
    "\n",
    "def f(x):\n",
    "    return x\n",
    "\n",
    "widgets.interact(f, x=10);"
   ]
  },
  {
   "cell_type": "code",
   "execution_count": null,
   "metadata": {},
   "outputs": [],
   "source": [
    "import MDAnalysis\n",
    "from MDAnalysis.tests.datafiles import PSF,DCD  # test trajectory\n",
    "import numpy.linalg\n",
    "u = MDAnalysis.Universe(PSF,DCD)  # always start with a Universe\n",
    "nterm = u.select_atoms('segid 4AKE and name N')[0]  # can access structure via segid (s4AKE) and atom name\n",
    "cterm = u.select_atoms('segid 4AKE and name C')[-1]  # ... takes the last atom named 'C'\n",
    "bb = u.select_atoms('protein and backbone')  # a selection (a AtomGroup)\n",
    "for ts in u.trajectory:  # iterate through all frames\n",
    "    r = cterm.position - nterm.position  # end-to-end vector from atom positions\n",
    "    d = numpy.linalg.norm(r)   # end-to-end distance\n",
    "    rgyr = bb.radius_of_gyration()  # method of a AtomGroup; updates with each frame\n",
    "    print( \"frame = %d: d = %f Angstroem, Rgyr = %f Angstroem\" % (ts.frame, d, rgyr))\n",
    "    \n",
    "    "
   ]
  },
  {
   "cell_type": "code",
   "execution_count": null,
   "metadata": {},
   "outputs": [],
   "source": [
    "from flowermodel import plotting  \n",
    "img_idx = 0\n",
    "plotting.plot_blob_overlay(vid, img_idx, blobs)    "
   ]
  },
  {
   "cell_type": "code",
   "execution_count": null,
   "metadata": {},
   "outputs": [],
   "source": [
    "blobs.to_csv(os.path.join(outputdir, 'blob{:d}.csv'.format(blob_idx)), index=False)"
   ]
  },
  {
   "cell_type": "code",
   "execution_count": null,
   "metadata": {},
   "outputs": [],
   "source": [
    "import os\n",
    "from flowermodel import util\n",
    "blob_idx = 3\n",
    "filename = '../data/movies/41586_2019_1429_MOESM4_ESM.mov'\n",
    "outputdir = os.path.join('../data/blobs/', os.path.basename(filename))\n",
    "util.mkdir_if_not_exist(outputdir)\n",
    "\n",
    "blobs = fb.get_allframes_blobs(filename, min_idx=blob_idx, max_idx=blob_idx+1)\n",
    "blobs.to_csv(os.path.join(outputdir, 'blob{:d}.csv'.format(blob_idx)))"
   ]
  },
  {
   "cell_type": "code",
   "execution_count": null,
   "metadata": {},
   "outputs": [],
   "source": [
    "# filename = '../data/movies/41586_2019_1429_MOESM4_ESM.mov'\n",
    "# allblobs = fb.get_allframes_blobs(filename)"
   ]
  },
  {
   "cell_type": "code",
   "execution_count": null,
   "metadata": {},
   "outputs": [],
   "source": [
    "%%bash\n",
    "flowermodel blob --filename ../data/movies/41586_2019_1429_MOESM4_ESM.mov --blob-index 2 "
   ]
  },
  {
   "cell_type": "code",
   "execution_count": null,
   "metadata": {},
   "outputs": [],
   "source": [
    "# from skimage.restoration import inpaint_biharmonic, denoise_wavelet\n",
    "# from skimage.morphology import disk, square\n",
    "# from skimage.filters import rank\n",
    "# from skimage.util import img_as_ubyte\n",
    "# from skimage.exposure import equalize_hist, equalize_adapthist\n",
    "# from skimage.feature import blob_dog, blob_log, blob_doh\n",
    "\n",
    "def remove_text(img):\n",
    "    th = threshold_otsu(img[:, :, 2])\n",
    "    mask = img[:, :, 2] > th\n",
    "    newimg = img.copy()\n",
    "    newimg[:, :, 2] = 0\n",
    "    newimg = inpaint_biharmonic(newimg, mask, multichannel=True)\n",
    "    return newimg\n",
    "\n",
    "def get_image(vid, img_idx):\n",
    "    img = vid.get_data(img_idx)\n",
    "    img = remove_text(img)\n",
    "    # img = img[35:-42, :, :] # remove annotations on the image\n",
    "    return img"
   ]
  },
  {
   "cell_type": "code",
   "execution_count": null,
   "metadata": {},
   "outputs": [],
   "source": [
    "filename = '../data/movies/41586_2019_1429_MOESM4_ESM.mov'\n",
    "vid = imageio.get_reader(filename,  'ffmpeg')"
   ]
  },
  {
   "cell_type": "code",
   "execution_count": null,
   "metadata": {},
   "outputs": [],
   "source": [
    "vid.count_frames()"
   ]
  },
  {
   "cell_type": "code",
   "execution_count": null,
   "metadata": {},
   "outputs": [],
   "source": [
    "img_idx = 0\n",
    "img = get_image(vid, img_idx)\n",
    "\n",
    "plt.figure(figsize=(8,8))\n",
    "plt.imshow(img)"
   ]
  },
  {
   "cell_type": "code",
   "execution_count": null,
   "metadata": {},
   "outputs": [],
   "source": [
    "import pandas as pd\n",
    "\n",
    "# blobs_dog = blob_dog(image_gray, max_sigma=30, threshold=.1)\n",
    "# blobs_dog[:, 2] = blobs_dog[:, 2] * np.sqrt(2)\n",
    "# blobs_doh = blob_doh(image_gray, max_sigma=30, threshold=.01)\n",
    "\n",
    "def get_blobs(imgray, min_sigma=3, max_sigma=10, num_sigma=10, threshold=.1, opening_disk_radius = 5):\n",
    "#     imgray_opened = opening((imgray * 256).astype(int), disk(opening_disk_radius))/256     \n",
    "    blobs = blob_log(imgray, max_sigma=max_sigma, min_sigma=min_sigma, num_sigma=num_sigma, threshold=threshold)\n",
    "    blobs = pd.DataFrame(blobs, columns=['x', 'y', 'radius'])\n",
    "    blobs['radius'] *= np.sqrt(2)\n",
    "    return blobs\n",
    "\n",
    "def plot_blobs(blobs, ax, color='r'):\n",
    "    for y, x, r in blobs:\n",
    "        c = plt.Circle((x, y), r, color=color, linewidth=2, fill=False)\n",
    "        ax.add_patch(c)\n",
    "#         ax.set_axis_off()\n",
    "\n",
    "\n",
    "def get_frame_blobs(img, min_sigma=10, max_sigma=15, num_sigma=10, threshold=.1):\n",
    "    '''\n",
    "    This function finds all the blobs within the image and assigns them their corresponding color (GFP/RFP)\n",
    "    '''\n",
    "    blobs_r = get_blobs(img[:, :, 0], max_sigma=max_sigma, min_sigma=min_sigma, num_sigma=num_sigma, threshold=threshold)\n",
    "    blobs_g = get_blobs(img[:, :, 1], max_sigma=max_sigma, min_sigma=min_sigma, num_sigma=num_sigma, threshold=threshold)   \n",
    "\n",
    "    blobs_r['color'] = 'r'\n",
    "    blobs_g['color'] = 'g'\n",
    "\n",
    "    blobs = pd.concat([blobs_r, blobs_g])\n",
    "    blobs.reset_index(drop=True, inplace=True)\n",
    "    blobs[['x', 'y']] = blobs[['x', 'y']].astype(int)\n",
    "    return blobs\n",
    "\n",
    "\n",
    "filename = '../data/movies/41586_2019_1429_MOESM4_ESM.mov'\n",
    "vid = imageio.get_reader(filename,  'ffmpeg')\n",
    "img_idx = 100\n",
    "img = get_image(vid, img_idx)\n",
    "blobs = get_frame_blobs(img, min_sigma=10, max_sigma=15, num_sigma=10, threshold=.1)\n",
    "blobs['frame'] = img_idx"
   ]
  },
  {
   "cell_type": "code",
   "execution_count": null,
   "metadata": {},
   "outputs": [],
   "source": [
    "# blobs_dog = blob_dog(image_gray, max_sigma=30, threshold=.1)\n",
    "# blobs_dog[:, 2] = blobs_dog[:, 2] * np.sqrt(2)\n",
    "# blobs_doh = blob_doh(image_gray, max_sigma=30, threshold=.01)\n",
    "\n",
    "\n",
    "\n",
    "\n",
    "def get_blobs(imgray, min_sigma=3, max_sigma=10, num_sigma=10, threshold=.1, opening_disk_radius = 5):\n",
    "#     imgray_opened = opening((imgray * 256).astype(int), disk(opening_disk_radius))/256     \n",
    "    blobs = blob_log(imgray, max_sigma=max_sigma, min_sigma=min_sigma,\n",
    "                     num_sigma=num_sigma, threshold=threshold)\n",
    "    blobs[:, 2] *= np.sqrt(2)\n",
    "    return blobs\n",
    "\n",
    "def plot_blobs(blobs, ax, color='r'):\n",
    "    for y, x, r in blobs:\n",
    "        c = plt.Circle((x, y), r, color=color, linewidth=2, fill=False)\n",
    "        ax.add_patch(c)\n",
    "#         ax.set_axis_off()\n",
    "\n",
    "_, ax = plt.subplots(1, 1, figsize=(8,8))\n",
    "img_idx = 100\n",
    "img = get_image(vid, img_idx)\n",
    "\n",
    "ax.imshow(img)\n",
    "\n",
    "blobs_r = get_blobs(img[:, :, 0], min_sigma=10, max_sigma=15, num_sigma=10, threshold=.1, opening_disk_radius = 5)\n",
    "blobs_g = get_blobs(img[:, :, 1], min_sigma=10, max_sigma=15, num_sigma=10, threshold=.1, opening_disk_radius = 5)\n",
    "\n",
    "plot_blobs(blobs_r, ax, color='red')\n",
    "plot_blobs(blobs_g, ax, color='green')"
   ]
  },
  {
   "cell_type": "code",
   "execution_count": null,
   "metadata": {},
   "outputs": [],
   "source": [
    "plt.figure(figsize=(8,8))\n",
    "th = threshold_otsu(imgray_opened)\n",
    "plt.imshow(imgray_opened > th)"
   ]
  },
  {
   "cell_type": "code",
   "execution_count": null,
   "metadata": {},
   "outputs": [],
   "source": [
    "plt.hist(equalize_hist(imgray_opened.flatten()), 50);"
   ]
  },
  {
   "cell_type": "code",
   "execution_count": null,
   "metadata": {},
   "outputs": [],
   "source": [
    "imgray_denoised = denoise_wavelet(imgray, multichannel=False)"
   ]
  },
  {
   "cell_type": "code",
   "execution_count": null,
   "metadata": {},
   "outputs": [],
   "source": [
    "plt.figure(figsize=(8,8))\n",
    "plt.imshow(imgray_denoised)"
   ]
  },
  {
   "cell_type": "code",
   "execution_count": null,
   "metadata": {},
   "outputs": [],
   "source": [
    "plt.hist(imgray.flatten(), 50);"
   ]
  },
  {
   "cell_type": "code",
   "execution_count": null,
   "metadata": {},
   "outputs": [],
   "source": [
    "plt.figure(figsize=(8,8))\n",
    "plt.imshow(imgray > 0.6)"
   ]
  },
  {
   "cell_type": "code",
   "execution_count": null,
   "metadata": {},
   "outputs": [],
   "source": [
    "imgray = img[:, :, 0]\n",
    "imgray = (imgray * 256).astype(int)\n",
    "plt.figure(figsize=(8,8))\n",
    "plt.imshow(imgray)"
   ]
  },
  {
   "cell_type": "code",
   "execution_count": null,
   "metadata": {},
   "outputs": [],
   "source": [
    "\n",
    "# selem = square(300)\n",
    "# img_eq = rank.equalize(img_as_ubyte(imgray), selem=selem)\n",
    "img_eq = equalize_hist(imgray)"
   ]
  },
  {
   "cell_type": "code",
   "execution_count": null,
   "metadata": {},
   "outputs": [],
   "source": [
    "plt.figure(figsize=(8,8))\n",
    "plt.imshow(img_eq)"
   ]
  },
  {
   "cell_type": "code",
   "execution_count": null,
   "metadata": {},
   "outputs": [],
   "source": [
    "from skimage.morphology import opening\n",
    "\n",
    "plt.figure(figsize=(8,8))\n",
    "plt.imshow(opening(img_eq, disk(5)))"
   ]
  },
  {
   "cell_type": "code",
   "execution_count": null,
   "metadata": {},
   "outputs": [],
   "source": [
    "plt.figure(figsize=(8,8))\n",
    "imgray_opened = opening(imgray, disk(5))\n",
    "plt.imshow(imgray_opened/256)\n",
    "plt.colorbar()"
   ]
  },
  {
   "cell_type": "code",
   "execution_count": null,
   "metadata": {},
   "outputs": [],
   "source": [
    "plt.figure(figsize=(8,8))\n",
    "plt.imshow(imgray_opened/256 > 0.1)"
   ]
  },
  {
   "cell_type": "code",
   "execution_count": null,
   "metadata": {},
   "outputs": [],
   "source": [
    "plt.figure(figsize=(8,8))\n",
    "plt.imshow(equalize_hist(imgray_opened)); "
   ]
  },
  {
   "cell_type": "code",
   "execution_count": null,
   "metadata": {},
   "outputs": [],
   "source": [
    "filename = '../data/movies/41586_2019_1429_MOESM4_ESM.mov'\n",
    "vid = imageio.get_reader(filename,  'ffmpeg')\n",
    "\n",
    "im = 0\n",
    "for image in vid.iter_data():\n",
    "    im += image[:, :, 2] > 200\n",
    "\n",
    "im = im/vid.count_frames()    \n",
    "metadata = vid.get_meta_data()\n",
    "\n",
    "plt.imshow(im);\n",
    "plt.figure()\n",
    "plt.plot(im.sum(axis=1))"
   ]
  },
  {
   "cell_type": "code",
   "execution_count": null,
   "metadata": {},
   "outputs": [],
   "source": [
    "\n",
    "imsum = im.sum(axis=1)\n",
    "th = imsum[:imsum.shape[0]//2].max()/2\n",
    "# imsum = (imsum > th).astype(int)\n",
    "# plt.plot(imsum)\n",
    "# imsumdiff = np.diff(imsum)\n",
    "# plt.plot(imsumdiff)"
   ]
  },
  {
   "cell_type": "code",
   "execution_count": null,
   "metadata": {},
   "outputs": [],
   "source": [
    "plt.imshow(img[:, :, 2])"
   ]
  },
  {
   "cell_type": "code",
   "execution_count": null,
   "metadata": {},
   "outputs": [],
   "source": [
    "plt.plot(img[:, :, 2].sum(axis=1))"
   ]
  },
  {
   "cell_type": "code",
   "execution_count": null,
   "metadata": {},
   "outputs": [],
   "source": [
    "img.shape"
   ]
  },
  {
   "cell_type": "code",
   "execution_count": null,
   "metadata": {},
   "outputs": [],
   "source": [
    "plt.figure(figsize=(12, 12))\n",
    "plt.imshow(img[:, :, 0])"
   ]
  },
  {
   "cell_type": "code",
   "execution_count": null,
   "metadata": {},
   "outputs": [],
   "source": [
    "plt.figure(figsize=(12, 12))\n",
    "plt.imshow(img[:, :, 1])"
   ]
  },
  {
   "cell_type": "code",
   "execution_count": null,
   "metadata": {},
   "outputs": [],
   "source": [
    "from scipy.signal import find_peaks\n",
    "height = imsum[:imsum.shape[0]//2].max()/2\n",
    "find_peaks(imsum, height=height, width=10)[0]"
   ]
  },
  {
   "cell_type": "code",
   "execution_count": null,
   "metadata": {},
   "outputs": [],
   "source": []
  }
 ],
 "metadata": {
  "kernelspec": {
   "display_name": "Python 3",
   "language": "python",
   "name": "python3"
  },
  "language_info": {
   "codemirror_mode": {
    "name": "ipython",
    "version": 3
   },
   "file_extension": ".py",
   "mimetype": "text/x-python",
   "name": "python",
   "nbconvert_exporter": "python",
   "pygments_lexer": "ipython3",
   "version": "3.7.4"
  }
 },
 "nbformat": 4,
 "nbformat_minor": 4
}
